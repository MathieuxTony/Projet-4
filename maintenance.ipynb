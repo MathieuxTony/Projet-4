{
 "cells": [
  {
   "cell_type": "markdown",
   "id": "3ea8dff1",
   "metadata": {},
   "source": [
    "# Projet 4: maintenance"
   ]
  },
  {
   "cell_type": "markdown",
   "id": "dd310678",
   "metadata": {},
   "source": [
    "Ce notebook présente une simulation destiner à déterminer la fréquence nécessaire de mise à jour de la segmentation des clients.\n",
    "\n",
    "En effet, les données RFM d'un client évoluent au cours du temps et de nouveaux clients s'ajoutent à la base de données donc il faut régulièrement mettre à jour le modèle de clustering."
   ]
  },
  {
   "cell_type": "code",
   "execution_count": 1,
   "id": "97843423",
   "metadata": {},
   "outputs": [],
   "source": [
    "import pandas as pd\n",
    "import numpy as np\n",
    "import matplotlib.pyplot as plt\n",
    "from sklearn.cluster import KMeans\n",
    "from sklearn import preprocessing\n",
    "from sklearn import metrics\n",
    "import datetime"
   ]
  },
  {
   "cell_type": "markdown",
   "id": "75e694ae",
   "metadata": {},
   "source": [
    "# Simulation"
   ]
  },
  {
   "cell_type": "markdown",
   "id": "1d208dcf",
   "metadata": {},
   "source": [
    "L'idée est la suivante. A un instant T0 on réalise un clustering de notre jeu de données X0: chaque client de X0 est rangé dans un cluster. A un instant ultérieur T1 nous disposons d'un jeu de données X1 qui contient tous les clients de X0 (avec des données RFM différentes) ainsi que de nouveaux clients. La question qui se pose alors est: quelle proportion de client de X0 change de cluster lorsque l'on refait un clustering, cette fois-ci sur X1?\n",
    "S'il y a trop de client qui sont assignés à un nouveau cluster alors il faut entraîner un nouveau modèle.\n",
    "\n",
    "Concrêtement il faut partir d'un jeu de données X0 contenant déjà suffisament de clients pour que le premier modèle ne soit pas obsolète au bout d'une semaine, et qui s'arrête à une date suffisamment éloignée de la date de fin de notre jeu de données complet pour pouvoir faire plusieurs tests.\n",
    "\n",
    "Pour mesurer les changements au sein des clusters on utilisera l'indice de rang ajusté (ARI).\n",
    "\n",
    "Le modèle de clustering qui a été retenu est un modèle k-means à 4 clusters sur les trois variables RFM."
   ]
  },
  {
   "cell_type": "markdown",
   "id": "34569f7f",
   "metadata": {},
   "source": [
    "On part du fichier \"olist_merge_data\" et non \"data_rfm\" car on veut simuler différentes dates d'exécution du clustering."
   ]
  },
  {
   "cell_type": "code",
   "execution_count": 2,
   "id": "254b6f6f",
   "metadata": {},
   "outputs": [],
   "source": [
    "data = pd.read_csv(\"olist_merge_data.csv\")"
   ]
  },
  {
   "cell_type": "code",
   "execution_count": 3,
   "id": "e5466655",
   "metadata": {},
   "outputs": [],
   "source": [
    "# On convertit 'order_purchase_date' en date\n",
    "data['order_purchase_date'] = pd.to_datetime(data['order_purchase_date'])"
   ]
  },
  {
   "cell_type": "code",
   "execution_count": 4,
   "id": "4cc48090",
   "metadata": {},
   "outputs": [
    {
     "data": {
      "text/plain": [
       "Timestamp('2018-09-03 00:00:00')"
      ]
     },
     "execution_count": 4,
     "metadata": {},
     "output_type": "execute_result"
    }
   ],
   "source": [
    "max_date = max(data['order_purchase_date'])\n",
    "max_date"
   ]
  },
  {
   "cell_type": "markdown",
   "id": "0c0e7377",
   "metadata": {},
   "source": [
    "On va partir de la fin de l'année 2017, ce qui nous laissera 8 mois, et faire une simulation par pas d'une semaine pour être assez précis sur la date de maintenance."
   ]
  },
  {
   "cell_type": "code",
   "execution_count": 5,
   "id": "db7e791b",
   "metadata": {},
   "outputs": [],
   "source": [
    "delta_time = 7 # Intervalle de temps entre chaque simulation de clustering\n",
    "T0 = pd.to_datetime('2017-12-31') # Date d'initialisation du modèle (premier clustering)"
   ]
  },
  {
   "cell_type": "markdown",
   "id": "32bd3ce1",
   "metadata": {},
   "source": [
    "On écrit ensuite une fonction pour réaliser les clusterings successifs et récupérer les ARI."
   ]
  },
  {
   "cell_type": "code",
   "execution_count": 6,
   "id": "5baced64",
   "metadata": {},
   "outputs": [],
   "source": [
    "def get_ari(delta_time, T0):\n",
    "    '''\n",
    "    Renvoi une liste de listes contenant trois éléments: la date de fin du jeu de données, le nombre d'intervalle de temps\n",
    "    écoulés depuis l'initialisation, et l'ARI.\n",
    "    \n",
    "    Paramètres:\n",
    "    ----------\n",
    "    delta_time : intervalle de temps entre chaque nouveau clustering\n",
    "    T0 : date d'initialisation de la segmentation des clients\n",
    "    '''\n",
    "    list_ari = [] # Liste à renvoyer par la fonction\n",
    "    max_date_iter = T0 # détermine la date de fin du jeu de données\n",
    "    \n",
    "    # Initialisation, clustering de référence\n",
    "    \n",
    "    X0 = data[data['order_purchase_date']<=T0] # clients avant T0\n",
    "    # Création du jeu de données RFM\n",
    "    X0 = X0.groupby(['customer_unique_id'])\n",
    "    X0 = X0.agg({ \n",
    "            'order_purchase_date': lambda x: (T0 - x.max()).days,\n",
    "            'customer_id':'count',\n",
    "            'price':'sum'}).reset_index()\n",
    "    X0.columns = ['customer_unique_id', 'recent', 'frequence', 'montant']\n",
    "    # Préprocessing\n",
    "    std_scale = preprocessing.StandardScaler().fit(X0[['recent', 'frequence', 'montant']] )\n",
    "    X0_scaled = std_scale.transform(X0[['recent', 'frequence', 'montant']] )\n",
    "    # Clustering\n",
    "    model = KMeans(n_clusters=4, random_state=10)\n",
    "    y0_pred = model.fit_predict(X0_scaled)\n",
    "    \n",
    "    \n",
    "    i = 0 # Compte le nombre d'intervalle delta_time écoulé\n",
    "    while max_date_iter < max_date:\n",
    "        max_date_iter = max_date_iter + datetime.timedelta(days=delta_time) # Nouvelle date de fin des données\n",
    "        i += 1\n",
    "        # Jeu de données suivant\n",
    "        X = data[data['order_purchase_date']<=max_date_iter]\n",
    "        # Création du jeu de données RFM suivant\n",
    "        X = X.groupby(['customer_unique_id'])\n",
    "        X = X.agg({\n",
    "            'order_purchase_date': lambda x: (max_date_iter - x.max()).days,\n",
    "            'customer_id':'count',\n",
    "            'price':'sum'}).reset_index()\n",
    "        X.columns = ['customer_unique_id', 'recent', 'frequence', 'montant']\n",
    "        # Preprocessing\n",
    "        std_scale = preprocessing.StandardScaler().fit(X[['recent', 'frequence', 'montant']])\n",
    "        X_scaled = std_scale.transform(X[['recent', 'frequence', 'montant']])\n",
    "        # Clustering\n",
    "        model = KMeans(n_clusters=4, random_state=10)\n",
    "        y_pred = model.fit_predict(X_scaled)\n",
    "        X['classe'] = y_pred\n",
    "        # On regarde les changements de cluster des clients qui étaient déjà présent dans X\n",
    "        y1_pred = X[X['customer_unique_id'].isin(X0['customer_unique_id'].to_list())]['classe'].to_numpy()\n",
    "        list_ari.append([max_date_iter, i, metrics.adjusted_rand_score(y0_pred, y1_pred)])\n",
    "\n",
    "    return list_ari"
   ]
  },
  {
   "cell_type": "markdown",
   "id": "17c5ba28",
   "metadata": {},
   "source": [
    "On utilise notre fonction."
   ]
  },
  {
   "cell_type": "code",
   "execution_count": 7,
   "id": "85cb6357",
   "metadata": {},
   "outputs": [],
   "source": [
    "list_ari = get_ari(delta_time, T0)"
   ]
  },
  {
   "cell_type": "markdown",
   "id": "4d73151e",
   "metadata": {},
   "source": [
    "On considère qu'une mainenance est nécessaire quand l'ARI passe en dessous de 0.8. Il suffit de lire la iste list_ari, mais on va quand même tracer un graphique pour avoir une vue d'ensemble."
   ]
  },
  {
   "cell_type": "code",
   "execution_count": 8,
   "id": "f4a77073",
   "metadata": {},
   "outputs": [],
   "source": [
    "l = [list_ari[i][2] for i in range(0, len(list_ari))] # On récupère les ARI"
   ]
  },
  {
   "cell_type": "code",
   "execution_count": 9,
   "id": "35058b9b",
   "metadata": {},
   "outputs": [
    {
     "data": {
      "text/plain": [
       "<matplotlib.legend.Legend at 0x2343069f2e0>"
      ]
     },
     "execution_count": 9,
     "metadata": {},
     "output_type": "execute_result"
    },
    {
     "data": {
      "image/png": "[encoded data removed]",
      "text/plain": [
       "<Figure size 576x432 with 1 Axes>"
      ]
     },
     "metadata": {
      "needs_background": "light"
     },
     "output_type": "display_data"
    }
   ],
   "source": [
    "plt.figure(figsize=(8, 6))\n",
    "plt.plot(range(0, len(list_ari)), l, label='ARI')\n",
    "plt.hlines(0.8, 0, len(list_ari), linestyles='dashed', color='red')\n",
    "plt.title('Evolution de l\\'ARI')\n",
    "plt.ylabel('ARI')\n",
    "plt.xlabel('Nombre de semaine à compter du 31 décembre 2017')\n",
    "plt.legend()"
   ]
  },
  {
   "cell_type": "code",
   "execution_count": 10,
   "id": "f2f1fb18",
   "metadata": {},
   "outputs": [
    {
     "data": {
      "text/plain": [
       "[[Timestamp('2018-01-07 00:00:00'), 1, 0.9483959723316472],\n",
       " [Timestamp('2018-01-14 00:00:00'), 2, 0.9009682599304223],\n",
       " [Timestamp('2018-01-21 00:00:00'), 3, 0.8464030588528345],\n",
       " [Timestamp('2018-01-28 00:00:00'), 4, 0.8225875375665868],\n",
       " [Timestamp('2018-02-04 00:00:00'), 5, 0.7646730129786837],\n",
       " [Timestamp('2018-02-11 00:00:00'), 6, 0.7292300627478069],\n",
       " [Timestamp('2018-02-18 00:00:00'), 7, 0.7052938264426751],\n",
       " [Timestamp('2018-02-25 00:00:00'), 8, 0.6726584824075195],\n",
       " [Timestamp('2018-03-04 00:00:00'), 9, 0.6369423581011245],\n",
       " [Timestamp('2018-03-11 00:00:00'), 10, 0.6093025537591936],\n",
       " [Timestamp('2018-03-18 00:00:00'), 11, 0.5883244985539904],\n",
       " [Timestamp('2018-03-25 00:00:00'), 12, 0.5392247084297619],\n",
       " [Timestamp('2018-04-01 00:00:00'), 13, 0.5158353043880439],\n",
       " [Timestamp('2018-04-08 00:00:00'), 14, 0.4830321719100401],\n",
       " [Timestamp('2018-04-15 00:00:00'), 15, 0.46371396942848814],\n",
       " [Timestamp('2018-04-22 00:00:00'), 16, 0.4416149008303884],\n",
       " [Timestamp('2018-04-29 00:00:00'), 17, 0.42242430419293786],\n",
       " [Timestamp('2018-05-06 00:00:00'), 18, 0.3951083923629326],\n",
       " [Timestamp('2018-05-13 00:00:00'), 19, 0.3725771701555224],\n",
       " [Timestamp('2018-05-20 00:00:00'), 20, 0.34494136529500574],\n",
       " [Timestamp('2018-05-27 00:00:00'), 21, 0.3326606094798706],\n",
       " [Timestamp('2018-06-03 00:00:00'), 22, 0.3230386373448675],\n",
       " [Timestamp('2018-06-10 00:00:00'), 23, 0.2953436299281427],\n",
       " [Timestamp('2018-06-17 00:00:00'), 24, 0.28643365904399615],\n",
       " [Timestamp('2018-06-24 00:00:00'), 25, 0.26541759195947207],\n",
       " [Timestamp('2018-07-01 00:00:00'), 26, 0.25650177866058044],\n",
       " [Timestamp('2018-07-08 00:00:00'), 27, 0.2501650870615618],\n",
       " [Timestamp('2018-07-15 00:00:00'), 28, 0.24108855361373677],\n",
       " [Timestamp('2018-07-22 00:00:00'), 29, 0.23028131788972647],\n",
       " [Timestamp('2018-07-29 00:00:00'), 30, 0.21409133659116097],\n",
       " [Timestamp('2018-08-05 00:00:00'), 31, 0.192246936038326],\n",
       " [Timestamp('2018-08-12 00:00:00'), 32, 0.17109128914560673],\n",
       " [Timestamp('2018-08-19 00:00:00'), 33, 0.1269381652742077],\n",
       " [Timestamp('2018-08-26 00:00:00'), 34, 0.13238967803801815],\n",
       " [Timestamp('2018-09-02 00:00:00'), 35, 0.1342532312273073],\n",
       " [Timestamp('2018-09-09 00:00:00'), 36, 0.13424314941821633]]"
      ]
     },
     "execution_count": 10,
     "metadata": {},
     "output_type": "execute_result"
    }
   ],
   "source": [
    "list_ari"
   ]
  },
  {
   "cell_type": "markdown",
   "id": "6ff861f6",
   "metadata": {},
   "source": [
    "Le modèle initialisé fin 2017 est valable 4 semaines. On effectue la maintenance au cours de la 5ème semaine avec un jeu de données allant jusqu'à 2018-01-28.\n",
    "\n",
    "On refait une simulation à partir du 2018-01-28."
   ]
  },
  {
   "cell_type": "code",
   "execution_count": 11,
   "id": "a26544b5",
   "metadata": {},
   "outputs": [],
   "source": [
    "T1 = pd.to_datetime('2018-01-28')"
   ]
  },
  {
   "cell_type": "code",
   "execution_count": 12,
   "id": "ddf05f78",
   "metadata": {},
   "outputs": [],
   "source": [
    "list_ari = get_ari(delta_time, T1)"
   ]
  },
  {
   "cell_type": "code",
   "execution_count": 13,
   "id": "d67a73f4",
   "metadata": {},
   "outputs": [
    {
     "data": {
      "text/plain": [
       "<matplotlib.legend.Legend at 0x2343073e1c0>"
      ]
     },
     "execution_count": 13,
     "metadata": {},
     "output_type": "execute_result"
    },
    {
     "data": {
      "image/png": "[encoded data removed]",
      "text/plain": [
       "<Figure size 576x432 with 1 Axes>"
      ]
     },
     "metadata": {
      "needs_background": "light"
     },
     "output_type": "display_data"
    }
   ],
   "source": [
    "l = [list_ari[i][2] for i in range(0, len(list_ari))]\n",
    "plt.figure(figsize=(8, 6))\n",
    "plt.plot(range(0, len(list_ari)), l, label='ARI')\n",
    "plt.hlines(0.8, 0, len(list_ari), linestyles='dashed', color='red')\n",
    "plt.title('Evolution de l\\'ARI')\n",
    "plt.ylabel('ARI')\n",
    "plt.xlabel('Nombre de semaine à compter de 2018-01-28')\n",
    "plt.legend()"
   ]
  },
  {
   "cell_type": "code",
   "execution_count": 14,
   "id": "3a0b91d7",
   "metadata": {},
   "outputs": [
    {
     "data": {
      "text/plain": [
       "[[Timestamp('2018-02-04 00:00:00'), 1, 0.9432141981750228],\n",
       " [Timestamp('2018-02-11 00:00:00'), 2, 0.9082121141995038],\n",
       " [Timestamp('2018-02-18 00:00:00'), 3, 0.884548443737459],\n",
       " [Timestamp('2018-02-25 00:00:00'), 4, 0.8518160255816983],\n",
       " [Timestamp('2018-03-04 00:00:00'), 5, 0.8153067045879653],\n",
       " [Timestamp('2018-03-11 00:00:00'), 6, 0.7865721384235167],\n",
       " [Timestamp('2018-03-18 00:00:00'), 7, 0.7649426339368145],\n",
       " [Timestamp('2018-03-25 00:00:00'), 8, 0.7140181266177322],\n",
       " [Timestamp('2018-04-01 00:00:00'), 9, 0.689893087649649],\n",
       " [Timestamp('2018-04-08 00:00:00'), 10, 0.6553755530219063],\n",
       " [Timestamp('2018-04-15 00:00:00'), 11, 0.6344785553114641],\n",
       " [Timestamp('2018-04-22 00:00:00'), 12, 0.6106296046427788],\n",
       " [Timestamp('2018-04-29 00:00:00'), 13, 0.5899070169028234],\n",
       " [Timestamp('2018-05-06 00:00:00'), 14, 0.5598248451087093],\n",
       " [Timestamp('2018-05-13 00:00:00'), 15, 0.5348734421554554],\n",
       " [Timestamp('2018-05-20 00:00:00'), 16, 0.5035763142982452],\n",
       " [Timestamp('2018-05-27 00:00:00'), 17, 0.48951565461182567],\n",
       " [Timestamp('2018-06-03 00:00:00'), 18, 0.4782985836357347],\n",
       " [Timestamp('2018-06-10 00:00:00'), 19, 0.4457338082251764],\n",
       " [Timestamp('2018-06-17 00:00:00'), 20, 0.43506235389034437],\n",
       " [Timestamp('2018-06-24 00:00:00'), 21, 0.4093034038039999],\n",
       " [Timestamp('2018-07-01 00:00:00'), 22, 0.39832593623896695],\n",
       " [Timestamp('2018-07-08 00:00:00'), 23, 0.3902806810442736],\n",
       " [Timestamp('2018-07-15 00:00:00'), 24, 0.3787279281195238],\n",
       " [Timestamp('2018-07-22 00:00:00'), 25, 0.364709671999855],\n",
       " [Timestamp('2018-07-29 00:00:00'), 26, 0.3432695257510048],\n",
       " [Timestamp('2018-08-05 00:00:00'), 27, 0.31240451705504496],\n",
       " [Timestamp('2018-08-12 00:00:00'), 28, 0.2805826520570795],\n",
       " [Timestamp('2018-08-19 00:00:00'), 29, 0.14064682862371547],\n",
       " [Timestamp('2018-08-26 00:00:00'), 30, 0.13358965609000936],\n",
       " [Timestamp('2018-09-02 00:00:00'), 31, 0.13184439979624146],\n",
       " [Timestamp('2018-09-09 00:00:00'), 32, 0.13185313252421008]]"
      ]
     },
     "execution_count": 14,
     "metadata": {},
     "output_type": "execute_result"
    }
   ],
   "source": [
    "list_ari"
   ]
  },
  {
   "cell_type": "markdown",
   "id": "37aaca3f",
   "metadata": {},
   "source": [
    "Cette fois-ci le modèle est valable 5 semaines. \n",
    "\n",
    "On refait une simulation à partir du 2018-03-04."
   ]
  },
  {
   "cell_type": "code",
   "execution_count": 15,
   "id": "cc2dfb5d",
   "metadata": {},
   "outputs": [],
   "source": [
    "T2 = pd.to_datetime('2018-03-04')"
   ]
  },
  {
   "cell_type": "code",
   "execution_count": 16,
   "id": "284130ed",
   "metadata": {},
   "outputs": [],
   "source": [
    "list_ari = get_ari(delta_time, T2)"
   ]
  },
  {
   "cell_type": "code",
   "execution_count": 17,
   "id": "b059a725",
   "metadata": {},
   "outputs": [
    {
     "data": {
      "text/plain": [
       "<matplotlib.legend.Legend at 0x2343075e610>"
      ]
     },
     "execution_count": 17,
     "metadata": {},
     "output_type": "execute_result"
    },
    {
     "data": {
      "image/png": "[encoded data removed]",
      "text/plain": [
       "<Figure size 576x432 with 1 Axes>"
      ]
     },
     "metadata": {
      "needs_background": "light"
     },
     "output_type": "display_data"
    }
   ],
   "source": [
    "l = [list_ari[i][2] for i in range(0, len(list_ari))]\n",
    "plt.figure(figsize=(8, 6))\n",
    "plt.plot(range(0, len(list_ari)), l, label='ARI')\n",
    "plt.hlines(0.8, 0, len(list_ari), linestyles='dashed', color='red')\n",
    "plt.title('Evolution de l\\'ARI')\n",
    "plt.ylabel('ARI')\n",
    "plt.xlabel('Nombre de semaine à compter de 2018-03-04')\n",
    "plt.legend()"
   ]
  },
  {
   "cell_type": "code",
   "execution_count": 18,
   "id": "563f3ebd",
   "metadata": {},
   "outputs": [
    {
     "data": {
      "text/plain": [
       "[[Timestamp('2018-03-11 00:00:00'), 1, 0.972237283870087],\n",
       " [Timestamp('2018-03-18 00:00:00'), 2, 0.9512782796373436],\n",
       " [Timestamp('2018-03-25 00:00:00'), 3, 0.9009958356244944],\n",
       " [Timestamp('2018-04-01 00:00:00'), 4, 0.8774941704642676],\n",
       " [Timestamp('2018-04-08 00:00:00'), 5, 0.8433965504955232],\n",
       " [Timestamp('2018-04-15 00:00:00'), 6, 0.8222038003270538],\n",
       " [Timestamp('2018-04-22 00:00:00'), 7, 0.7979456492159887],\n",
       " [Timestamp('2018-04-29 00:00:00'), 8, 0.7768330675408077],\n",
       " [Timestamp('2018-05-06 00:00:00'), 9, 0.7459017889926293],\n",
       " [Timestamp('2018-05-13 00:00:00'), 10, 0.7204462381072226],\n",
       " [Timestamp('2018-05-20 00:00:00'), 11, 0.6877785201504888],\n",
       " [Timestamp('2018-05-27 00:00:00'), 12, 0.6730048280251076],\n",
       " [Timestamp('2018-06-03 00:00:00'), 13, 0.6610423529183779],\n",
       " [Timestamp('2018-06-10 00:00:00'), 14, 0.6264826476894533],\n",
       " [Timestamp('2018-06-17 00:00:00'), 15, 0.6150102062114005],\n",
       " [Timestamp('2018-06-24 00:00:00'), 16, 0.5869400518889596],\n",
       " [Timestamp('2018-07-01 00:00:00'), 17, 0.5747302900609239],\n",
       " [Timestamp('2018-07-08 00:00:00'), 18, 0.5659376836033037],\n",
       " [Timestamp('2018-07-15 00:00:00'), 19, 0.5529900145725111],\n",
       " [Timestamp('2018-07-22 00:00:00'), 20, 0.5371879926751745],\n",
       " [Timestamp('2018-07-29 00:00:00'), 21, 0.5115173731428929],\n",
       " [Timestamp('2018-08-05 00:00:00'), 22, 0.4769081740250421],\n",
       " [Timestamp('2018-08-12 00:00:00'), 23, 0.4391887312955683],\n",
       " [Timestamp('2018-08-19 00:00:00'), 24, 0.23499780547834398],\n",
       " [Timestamp('2018-08-26 00:00:00'), 25, 0.21897916579344312],\n",
       " [Timestamp('2018-09-02 00:00:00'), 26, 0.21459732122590106],\n",
       " [Timestamp('2018-09-09 00:00:00'), 27, 0.21461955278476275]]"
      ]
     },
     "execution_count": 18,
     "metadata": {},
     "output_type": "execute_result"
    }
   ],
   "source": [
    "list_ari"
   ]
  },
  {
   "cell_type": "markdown",
   "id": "d664f63a",
   "metadata": {},
   "source": [
    "Cette fois-ci le modèle est valable 6 semaines.\n",
    "\n",
    "On refait une simulation à partir du 2018-04-15."
   ]
  },
  {
   "cell_type": "code",
   "execution_count": 19,
   "id": "b671fe96",
   "metadata": {},
   "outputs": [],
   "source": [
    "T3 = pd.to_datetime('2018-04-15')"
   ]
  },
  {
   "cell_type": "code",
   "execution_count": 20,
   "id": "dc3c243f",
   "metadata": {},
   "outputs": [],
   "source": [
    "list_ari = get_ari(delta_time, T3)"
   ]
  },
  {
   "cell_type": "code",
   "execution_count": 21,
   "id": "aa94ca96",
   "metadata": {},
   "outputs": [
    {
     "data": {
      "text/plain": [
       "<matplotlib.legend.Legend at 0x234307dd1c0>"
      ]
     },
     "execution_count": 21,
     "metadata": {},
     "output_type": "execute_result"
    },
    {
     "data": {
      "image/png": "[encoded data removed]",
      "text/plain": [
       "<Figure size 576x432 with 1 Axes>"
      ]
     },
     "metadata": {
      "needs_background": "light"
     },
     "output_type": "display_data"
    }
   ],
   "source": [
    "l = [list_ari[i][2] for i in range(0, len(list_ari))]\n",
    "plt.figure(figsize=(8, 6))\n",
    "plt.plot(range(0, len(list_ari)), l, label='ARI')\n",
    "plt.hlines(0.8, 0, len(list_ari), linestyles='dashed', color='red')\n",
    "plt.title('Evolution de l\\'ARI')\n",
    "plt.ylabel('ARI')\n",
    "plt.xlabel('Nombre de semaine à compter de 2018-04-15')\n",
    "plt.legend()"
   ]
  },
  {
   "cell_type": "code",
   "execution_count": 22,
   "id": "93780260",
   "metadata": {},
   "outputs": [
    {
     "data": {
      "text/plain": [
       "[[Timestamp('2018-04-22 00:00:00'), 1, 0.9763059200072024],\n",
       " [Timestamp('2018-04-29 00:00:00'), 2, 0.9560096609240731],\n",
       " [Timestamp('2018-05-06 00:00:00'), 3, 0.9255794968236011],\n",
       " [Timestamp('2018-05-13 00:00:00'), 4, 0.9005159437196455],\n",
       " [Timestamp('2018-05-20 00:00:00'), 5, 0.8681788284262522],\n",
       " [Timestamp('2018-05-27 00:00:00'), 6, 0.8533908793734659],\n",
       " [Timestamp('2018-06-03 00:00:00'), 7, 0.8414867569876107],\n",
       " [Timestamp('2018-06-10 00:00:00'), 8, 0.806902333576507],\n",
       " [Timestamp('2018-06-17 00:00:00'), 9, 0.7952526927083508],\n",
       " [Timestamp('2018-06-24 00:00:00'), 10, 0.767013567257297],\n",
       " [Timestamp('2018-07-01 00:00:00'), 11, 0.7545456294454027],\n",
       " [Timestamp('2018-07-08 00:00:00'), 12, 0.7453622838159784],\n",
       " [Timestamp('2018-07-15 00:00:00'), 13, 0.7321588971557002],\n",
       " [Timestamp('2018-07-22 00:00:00'), 14, 0.7158241230028023],\n",
       " [Timestamp('2018-07-29 00:00:00'), 15, 0.6877453070800956],\n",
       " [Timestamp('2018-08-05 00:00:00'), 16, 0.653291626071802],\n",
       " [Timestamp('2018-08-12 00:00:00'), 17, 0.6133479616935595],\n",
       " [Timestamp('2018-08-19 00:00:00'), 18, 0.37801053231998794],\n",
       " [Timestamp('2018-08-26 00:00:00'), 19, 0.3571886654121521],\n",
       " [Timestamp('2018-09-02 00:00:00'), 20, 0.3513928053179233],\n",
       " [Timestamp('2018-09-09 00:00:00'), 21, 0.3514224829330306]]"
      ]
     },
     "execution_count": 22,
     "metadata": {},
     "output_type": "execute_result"
    }
   ],
   "source": [
    "list_ari"
   ]
  },
  {
   "cell_type": "markdown",
   "id": "59b5666b",
   "metadata": {},
   "source": [
    "Cette fois-ci le modèle est valable 8 semaines. Le fait que le modèle est valable de plus en plus longtemps peut s'expliquer par le fait qu'on ajoute <u>en proportion</u> de moins en moins de données chaque semaine.\n",
    "\n",
    "On refait une simulation à partir du 2018-06-10. La dernière puisque nous arrivons au mois d'août."
   ]
  },
  {
   "cell_type": "code",
   "execution_count": 23,
   "id": "d1ee63a1",
   "metadata": {},
   "outputs": [],
   "source": [
    "T4 = pd.to_datetime('2018-06-10')"
   ]
  },
  {
   "cell_type": "code",
   "execution_count": 24,
   "id": "452453d1",
   "metadata": {},
   "outputs": [],
   "source": [
    "list_ari = get_ari(delta_time, T4)"
   ]
  },
  {
   "cell_type": "code",
   "execution_count": 25,
   "id": "373882ce",
   "metadata": {},
   "outputs": [
    {
     "data": {
      "text/plain": [
       "<matplotlib.legend.Legend at 0x234335e4d30>"
      ]
     },
     "execution_count": 25,
     "metadata": {},
     "output_type": "execute_result"
    },
    {
     "data": {
      "image/png": "[encoded data removed]",
      "text/plain": [
       "<Figure size 576x432 with 1 Axes>"
      ]
     },
     "metadata": {
      "needs_background": "light"
     },
     "output_type": "display_data"
    }
   ],
   "source": [
    "l = [list_ari[i][2] for i in range(0, len(list_ari))]\n",
    "plt.figure(figsize=(8, 6))\n",
    "plt.plot(range(0, len(list_ari)), l, label='ARI')\n",
    "plt.hlines(0.8, 0, len(list_ari), linestyles='dashed', color='red')\n",
    "plt.title('Evolution de l\\'ARI')\n",
    "plt.ylabel('ARI')\n",
    "plt.xlabel('Nombre de semaine à compter de 2018-06-10')\n",
    "plt.legend()"
   ]
  },
  {
   "cell_type": "code",
   "execution_count": 26,
   "id": "1e0a5c6f",
   "metadata": {},
   "outputs": [
    {
     "data": {
      "text/plain": [
       "[[Timestamp('2018-06-17 00:00:00'), 1, 0.9886219601779235],\n",
       " [Timestamp('2018-06-24 00:00:00'), 2, 0.9614548455166516],\n",
       " [Timestamp('2018-07-01 00:00:00'), 3, 0.9486954108276097],\n",
       " [Timestamp('2018-07-08 00:00:00'), 4, 0.9402226632142059],\n",
       " [Timestamp('2018-07-15 00:00:00'), 5, 0.9271078609108331],\n",
       " [Timestamp('2018-07-22 00:00:00'), 6, 0.9110675868636292],\n",
       " [Timestamp('2018-07-29 00:00:00'), 7, 0.8833686423172844],\n",
       " [Timestamp('2018-08-05 00:00:00'), 8, 0.8495567728098944],\n",
       " [Timestamp('2018-08-12 00:00:00'), 9, 0.8100730079569574],\n",
       " [Timestamp('2018-08-19 00:00:00'), 10, 0.5647995163301063],\n",
       " [Timestamp('2018-08-26 00:00:00'), 11, 0.5416532893543651],\n",
       " [Timestamp('2018-09-02 00:00:00'), 12, 0.5351611836215033],\n",
       " [Timestamp('2018-09-09 00:00:00'), 13, 0.5351945678519091]]"
      ]
     },
     "execution_count": 26,
     "metadata": {},
     "output_type": "execute_result"
    }
   ],
   "source": [
    "list_ari"
   ]
  },
  {
   "cell_type": "markdown",
   "id": "2d992a40",
   "metadata": {},
   "source": [
    "Finalement on estime que la prochaine maintenance doit avoir lieu dans 9 semaines, c'est-à-dire dans 2 mois."
   ]
  }
 ],
 "metadata": {
  "kernelspec": {
   "display_name": "Python 3 (ipykernel)",
   "language": "python",
   "name": "python3"
  },
  "language_info": {
   "codemirror_mode": {
    "name": "ipython",
    "version": 3
   },
   "file_extension": ".py",
   "mimetype": "text/x-python",
   "name": "python",
   "nbconvert_exporter": "python",
   "pygments_lexer": "ipython3",
   "version": "3.9.12"
  }
 },
 "nbformat": 4,
 "nbformat_minor": 5
}
